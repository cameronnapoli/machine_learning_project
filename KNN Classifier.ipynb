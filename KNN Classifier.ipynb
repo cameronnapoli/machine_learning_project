{
 "cells": [
  {
   "cell_type": "markdown",
   "metadata": {},
   "source": [
    "# CS178 Final Project (KNN)"
   ]
  },
  {
   "cell_type": "markdown",
   "metadata": {},
   "source": [
    "### Cameron Napoli, 73223093"
   ]
  },
  {
   "cell_type": "code",
   "execution_count": 1,
   "metadata": {
    "collapsed": true
   },
   "outputs": [],
   "source": [
    "from __future__ import division\n",
    "\n",
    "import numpy as np\n",
    "import matplotlib.pyplot as plt\n",
    "import mltools as ml\n",
    "import time, sys\n",
    "from math import log\n",
    "\n",
    "from random import randrange"
   ]
  },
  {
   "cell_type": "code",
   "execution_count": 2,
   "metadata": {},
   "outputs": [],
   "source": [
    "np.random.seed(1294879247)\n",
    "\n",
    "X = np.genfromtxt('data/X_train.txt', delimiter=None)\n",
    "Y = np.genfromtxt('data/Y_train.txt', delimiter=None)\n",
    "X,Y = ml.shuffleData(X,Y)"
   ]
  },
  {
   "cell_type": "code",
   "execution_count": 3,
   "metadata": {},
   "outputs": [],
   "source": [
    "# use random subset of data to classify (my computer is really slow)\n",
    "size1, size2 = 30000, 31000\n",
    "X2, Y2 = X[size1:size2], Y[size1:size2]\n",
    "Xtr, Xva, Ytr, Yva = ml.splitData(X2, Y2, 0.75)"
   ]
  },
  {
   "cell_type": "code",
   "execution_count": 4,
   "metadata": {},
   "outputs": [
    {
     "name": "stdout",
     "output_type": "stream",
     "text": [
      "--- Choosing the best k value ---\n",
      "Testing K=1\n",
      "Testing K=25\n",
      "Testing K=45\n",
      "Testing K=55\n",
      "Testing K=65\n",
      "Testing K=75\n",
      "Testing K=85\n",
      "Testing K=95\n",
      "Testing K=115\n"
     ]
    },
    {
     "data": {
      "image/png": "[encoded data removed]",
      "text/plain": [
       "<matplotlib.figure.Figure at 0x10fa8fcd0>"
      ]
     },
     "metadata": {},
     "output_type": "display_data"
    },
    {
     "name": "stdout",
     "output_type": "stream",
     "text": [
      "Best K=25 (err=0.3)\n",
      "- 1.6081 seconds to complete execution of k search -\n"
     ]
    }
   ],
   "source": [
    "# KNN\n",
    "print(\"--- Choosing the best k value ---\")\n",
    "start_time = time.time()\n",
    "\n",
    "# optimal k range seems to be 45 - 95\n",
    "k_values = [1, 25, 45, 55, 65, 75, 85, 95, 115]\n",
    "err_values = []\n",
    "\n",
    "for k in k_values:\n",
    "    print(\"Testing K=%s\" % k)\n",
    "    knn = ml.knn.knnClassify(Xtr, Ytr, K=k)\n",
    "    err = knn.err(Xva, Yva)\n",
    "    err_values.append(err)\n",
    "\n",
    "plt.title(\"Error rates for different k values\")\n",
    "plt.plot(k_values, err_values, 'r-')\n",
    "plt.show()\n",
    "\n",
    "best_k = np.argmin(err_values)\n",
    "print(\"Best K=%s (err=%s)\" % (k_values[best_k], err_values[best_k]))\n",
    "\n",
    "print(\"- %s seconds to complete execution of k search -\" % round((time.time() - start_time), 4))"
   ]
  },
  {
   "cell_type": "code",
   "execution_count": 5,
   "metadata": {},
   "outputs": [
    {
     "name": "stdout",
     "output_type": "stream",
     "text": [
      "--- Choosing the most important features ---\n",
      "Testing Feature 1\n",
      "Testing Feature 2\n",
      "Testing Feature 3\n",
      "Testing Feature 4\n",
      "Testing Feature 5\n",
      "Testing Feature 6\n",
      "Testing Feature 7\n",
      "Testing Feature 8\n",
      "Testing Feature 9\n",
      "Testing Feature 10\n",
      "Testing Feature 11\n",
      "Testing Feature 12\n",
      "Testing Feature 13\n",
      "Testing Feature 14\n"
     ]
    },
    {
     "data": {
      "image/png": "[encoded data removed]",
      "text/plain": [
       "<matplotlib.figure.Figure at 0x10fb48090>"
      ]
     },
     "metadata": {},
     "output_type": "display_data"
    },
    {
     "name": "stdout",
     "output_type": "stream",
     "text": [
      "Best features=[13, 6]\n",
      "- 0.79 seconds to complete execution of feature search -\n"
     ]
    }
   ],
   "source": [
    "print(\"--- Choosing the most important features ---\")\n",
    "start_time = time.time()\n",
    "\n",
    "\n",
    "def n_lowest_vals(x, n):\n",
    "    \"\"\" Return indices of n lowest values in arr (not very efficient but doesn't need to be) \"\"\"\n",
    "    t, res = x, []\n",
    "    for i in range(n):\n",
    "        ind_lowest = np.argmin(t)\n",
    "        t[ind_lowest] = 9e99\n",
    "        res.append(ind_lowest)\n",
    "    return res\n",
    "\n",
    "\n",
    "\n",
    "x_values = [x for x in range(X.shape[1])]\n",
    "err_values2 = []\n",
    "\n",
    "for i in range(X.shape[1]):\n",
    "    print(\"Testing Feature %s\" % str(i+1))\n",
    "    s1, s2 = i, i+1\n",
    "    knn = ml.knn.knnClassify(Xtr[:,s1:s2], Ytr, K=best_k)\n",
    "    err_values2.append(knn.err(Xva[:,s1:s2], Yva))\n",
    "\n",
    "plt.title(\"Error rates for different features\")\n",
    "plt.plot(x_values, err_values2, 'r-')\n",
    "plt.show()\n",
    "    \n",
    "# print(err_values2)\n",
    "N = 2\n",
    "best_f = n_lowest_vals(err_values2, N)\n",
    "print(\"Best features=%s\" % (best_f,))\n",
    "print(\"- %s seconds to complete execution of feature search -\" % round((time.time() - start_time), 4))"
   ]
  },
  {
   "cell_type": "code",
   "execution_count": 6,
   "metadata": {},
   "outputs": [
    {
     "name": "stdout",
     "output_type": "stream",
     "text": [
      "--- Calculating AUC Score for this classifier ---\n",
      "AUC Score: 0.55450545\n"
     ]
    }
   ],
   "source": [
    "print(\"--- Calculating AUC Score for this classifier ---\")\n",
    "\n",
    "def reform_data(Xt, best_f):\n",
    "    Xtr_mod = np.zeros((Xt.shape[0], len(best_f)))\n",
    "    for i in range(len(best_f)):\n",
    "        Xtemp = Xt[:,best_f[i]]\n",
    "        Xtr_mod[:,i] = Xtemp\n",
    "    return Xtr_mod\n",
    "\n",
    "\n",
    "knn = ml.knn.knnClassify(reform_data(Xtr, best_f), Ytr, K=best_k)\n",
    "\n",
    "auc_score = round(knn.auc(reform_data(Xva, best_f), Yva), 8)\n",
    "print(\"AUC Score: %s\" % str(auc_score))"
   ]
  },
  {
   "cell_type": "code",
   "execution_count": 7,
   "metadata": {},
   "outputs": [
    {
     "name": "stdout",
     "output_type": "stream",
     "text": [
      "--- Depositing data in file for Kaggle ---\n"
     ]
    }
   ],
   "source": [
    "print(\"--- Depositing data in file for Kaggle ---\")\n",
    "\n",
    "# load Kag test data\n",
    "\n",
    "# Yva = np.vstack((np.arange(Xva.shape[0]), knn.predictSoft(Xva)[:,1])).T\n",
    "# np.savetxt('Y_submit.txt', Yva, '%d, %.2f', header='ID,Prob1', comments='', delimiter=',')"
   ]
  },
  {
   "cell_type": "code",
   "execution_count": 8,
   "metadata": {
    "collapsed": true
   },
   "outputs": [],
   "source": [
    "# Perceptron\n",
    "\n"
   ]
  },
  {
   "cell_type": "code",
   "execution_count": 9,
   "metadata": {
    "collapsed": true
   },
   "outputs": [],
   "source": [
    "# Logistic Regression\n",
    "\n",
    "# Steve"
   ]
  },
  {
   "cell_type": "code",
   "execution_count": 10,
   "metadata": {
    "collapsed": true
   },
   "outputs": [],
   "source": [
    "# Random forest\n",
    "\n",
    "# Bruce"
   ]
  },
  {
   "cell_type": "code",
   "execution_count": 11,
   "metadata": {},
   "outputs": [],
   "source": [
    "# Multi-layer Perceptron (Neural Net)\n",
    "\n",
    "# class nnetClassify\n",
    "# nnet = ml.nnetClassify()\n",
    "# nnet.set_layers([2,2])\n",
    "# nnet.init_weights()"
   ]
  }
 ],
 "metadata": {
  "kernelspec": {
   "display_name": "Python 2",
   "language": "python",
   "name": "python2"
  },
  "language_info": {
   "codemirror_mode": {
    "name": "ipython",
    "version": 2
   },
   "file_extension": ".py",
   "mimetype": "text/x-python",
   "name": "python",
   "nbconvert_exporter": "python",
   "pygments_lexer": "ipython2",
   "version": "2.7.14"
  },
  "widgets": {
   "application/vnd.jupyter.widget-state+json": {
    "state": {},
    "version_major": 2,
    "version_minor": 0
   }
  }
 },
 "nbformat": 4,
 "nbformat_minor": 2
}
