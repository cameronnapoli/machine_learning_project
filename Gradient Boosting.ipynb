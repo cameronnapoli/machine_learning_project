{
 "cells": [
  {
   "cell_type": "code",
   "execution_count": 10,
   "metadata": {},
   "outputs": [
    {
     "name": "stdout",
     "output_type": "stream",
     "text": [
      "0.7153860988412699\n",
      "0.7066438511460167\n"
     ]
    }
   ],
   "source": [
    "from __future__ import division\n",
    "from sklearn.ensemble import GradientBoostingClassifier\n",
    "from sklearn.metrics import roc_auc_score\n",
    "import numpy as np\n",
    "import matplotlib.pyplot as plt\n",
    "import mltools as ml\n",
    "%matplotlib inline\n",
    "\n",
    "\n",
    "X = np.genfromtxt('data/X_train.txt', delimiter=None)\n",
    "Y = np.genfromtxt('data/Y_train.txt', delimiter=None)\n",
    "X,Y = ml.shuffleData(X,Y)\n",
    "\n",
    "Xtr, Xte, Ytr, Yte = ml.splitData(X, Y, 0.75)\n",
    "\n",
    "boosts = GradientBoostingClassifier(n_estimators=200, max_features=14)\n",
    "boosts.fit(Xtr,Ytr)\n",
    "YtrHat = boosts.predict_proba(Xtr)\n",
    "YteHat = boosts.predict_proba(Xte)\n",
    "\n",
    "print(roc_auc_score(Ytr,YtrHat[:,1]))\n",
    "print(roc_auc_score(Yte, YteHat[:,1]))\n",
    "\n",
    "\n"
   ]
  },
  {
   "cell_type": "code",
   "execution_count": 13,
   "metadata": {},
   "outputs": [],
   "source": [
    "Xte = np.genfromtxt('data/X_test.txt', delimiter=None)\n",
    "\n",
    "boosts = GradientBoostingClassifier(n_estimators=200, max_features=5)\n",
    "boosts.fit(X,Y)\n",
    "Yte = boosts.predict_proba(Xte)\n",
    "Yte = np.vstack((np.arange(Xte.shape[0]), Yte[:,1].reshape(200000))).T\n",
    "# Output a file with two columns, a row ID and a confidence in class 1:\n",
    "np.savetxt('Y_submit_linearC.txt',Yte,'%d, %.2f',header='ID,Prob1',comments='',delimiter=',')"
   ]
  },
  {
   "cell_type": "code",
   "execution_count": null,
   "metadata": {},
   "outputs": [],
   "source": []
  }
 ],
 "metadata": {
  "kernelspec": {
   "display_name": "Python 3",
   "language": "python",
   "name": "python3"
  },
  "language_info": {
   "codemirror_mode": {
    "name": "ipython",
    "version": 3
   },
   "file_extension": ".py",
   "mimetype": "text/x-python",
   "name": "python",
   "nbconvert_exporter": "python",
   "pygments_lexer": "ipython3",
   "version": "3.6.4"
  }
 },
 "nbformat": 4,
 "nbformat_minor": 2
}
